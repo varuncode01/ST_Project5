{
  "nbformat": 4,
  "nbformat_minor": 0,
  "metadata": {
    "colab": {
      "provenance": [],
      "mount_file_id": "160QytMxgUYHiTT8UGfCih6DsfEcEKlly",
      "authorship_tag": "ABX9TyMFps+7Oh81pjP3bzqIOLKC",
      "include_colab_link": true
    },
    "kernelspec": {
      "name": "python3",
      "display_name": "Python 3"
    },
    "language_info": {
      "name": "python"
    }
  },
  "cells": [
    {
      "cell_type": "markdown",
      "metadata": {
        "id": "view-in-github",
        "colab_type": "text"
      },
      "source": [
        "<a href=\"https://colab.research.google.com/github/varuncode01/ST_Online_Retail_Project5/blob/main/UI_implementation.ipynb\" target=\"_parent\"><img src=\"https://colab.research.google.com/assets/colab-badge.svg\" alt=\"Open In Colab\"/></a>"
      ]
    },
    {
      "cell_type": "code",
      "source": [],
      "metadata": {
        "id": "89qgS0-cKWQg"
      },
      "execution_count": null,
      "outputs": []
    },
    {
      "cell_type": "code",
      "source": [
        "class RecommendationModel:\n",
        "    def __init__(self, df, sim_matrix):\n",
        "        self.df = df\n",
        "        self.sim_matrix = sim_matrix\n",
        "\n",
        "    def predict(self, product_name, top_n=5):\n",
        "        try:\n",
        "            product_index = self.df[self.df['Description'] == product_name].index[0]\n",
        "            similar_scores = list(enumerate(self.sim_matrix[product_index]))\n",
        "            similar_scores_sorted = sorted(similar_scores, key=lambda x: x[1], reverse=True)\n",
        "\n",
        "            results = []\n",
        "            for i in range(1, top_n + 1):\n",
        "                index = similar_scores_sorted[i][0]\n",
        "                results.append(self.df['Description'].iloc[index])\n",
        "            return results\n",
        "        except:\n",
        "            return [\"❌ Invalid input.\"]"
      ],
      "metadata": {
        "id": "yco-fhYDO0pQ"
      },
      "execution_count": 5,
      "outputs": []
    },
    {
      "cell_type": "code",
      "source": [
        "import joblib"
      ],
      "metadata": {
        "id": "Aq31lwIXPNmP"
      },
      "execution_count": 10,
      "outputs": []
    },
    {
      "cell_type": "code",
      "source": [
        "model = joblib.load(\"/content/drive/MyDrive/Colab Notebooks/Online_Retail_Project5/recommendation_model2.pkl\")\n",
        "\n",
        "# Now call its predict method\n",
        "print(model.predict(\"Alarm Clock\", top_n=5))\n"
      ],
      "metadata": {
        "colab": {
          "base_uri": "https://localhost:8080/"
        },
        "id": "xF6anqRuK6-Z",
        "outputId": "d8ad7600-bc0b-43bc-dd52-98a894a8c106"
      },
      "execution_count": 11,
      "outputs": [
        {
          "output_type": "stream",
          "name": "stdout",
          "text": [
            "['❌ Invalid input.']\n"
          ]
        }
      ]
    },
    {
      "cell_type": "code",
      "source": [
        "print(type(df_unique_products))\n",
        "print(df_unique_products.head())\n",
        "\n",
        "print(type(cosine_sim))\n",
        "print(cosine_sim.shape)\n"
      ],
      "metadata": {
        "colab": {
          "base_uri": "https://localhost:8080/"
        },
        "id": "BMa2hJesK_RL",
        "outputId": "6c30ffaa-3512-46c9-9678-c89c59e4cf46"
      },
      "execution_count": 2,
      "outputs": [
        {
          "output_type": "stream",
          "name": "stdout",
          "text": [
            "<class 'pandas.core.frame.DataFrame'>\n",
            "  InvoiceNo StockCode                          Description  Quantity  \\\n",
            "0    536365    85123A    white hanging heart tlight holder         6   \n",
            "1    536365     71053                  white metal lantern         6   \n",
            "2    536365    84406B       cream cupid hearts coat hanger         8   \n",
            "3    536365    84029G  knitted union flag hot water bottle         6   \n",
            "4    536365    84029E        red woolly hottie white heart         6   \n",
            "\n",
            "          InvoiceDate  UnitPrice         Country  InvoiceMonth  InvoiceHour  \\\n",
            "0 2010-12-01 08:26:00       2.55  united kingdom            12            8   \n",
            "1 2010-12-01 08:26:00       3.39  united kingdom            12            8   \n",
            "2 2010-12-01 08:26:00       2.75  united kingdom            12            8   \n",
            "3 2010-12-01 08:26:00       3.39  united kingdom            12            8   \n",
            "4 2010-12-01 08:26:00       3.39  united kingdom            12            8   \n",
            "\n",
            "   InvoiceDayofWeek  \n",
            "0                 2  \n",
            "1                 2  \n",
            "2                 2  \n",
            "3                 2  \n",
            "4                 2  \n",
            "<class 'numpy.ndarray'>\n",
            "(4068, 4068)\n"
          ]
        }
      ]
    },
    {
      "cell_type": "code",
      "source": [],
      "metadata": {
        "id": "flzG2TpMMl_w"
      },
      "execution_count": null,
      "outputs": []
    },
    {
      "cell_type": "code",
      "source": [
        "recommendations = recommendation_model(\"Alarm Clock\", top_n=5)\n",
        "print(recommendations)"
      ],
      "metadata": {
        "colab": {
          "base_uri": "https://localhost:8080/",
          "height": 158
        },
        "id": "cvr6dlcWLIFf",
        "outputId": "9a1b22b0-a036-4b78-b7fd-d2546c0ee5dd"
      },
      "execution_count": 3,
      "outputs": [
        {
          "output_type": "error",
          "ename": "NameError",
          "evalue": "name 'recommendation_model' is not defined",
          "traceback": [
            "\u001b[0;31m---------------------------------------------------------------------------\u001b[0m",
            "\u001b[0;31mNameError\u001b[0m                                 Traceback (most recent call last)",
            "\u001b[0;32m/tmp/ipython-input-2258761904.py\u001b[0m in \u001b[0;36m<cell line: 0>\u001b[0;34m()\u001b[0m\n\u001b[0;32m----> 1\u001b[0;31m \u001b[0mrecommendations\u001b[0m \u001b[0;34m=\u001b[0m \u001b[0mrecommendation_model\u001b[0m\u001b[0;34m(\u001b[0m\u001b[0;34m\"Alarm Clock\"\u001b[0m\u001b[0;34m,\u001b[0m \u001b[0mtop_n\u001b[0m\u001b[0;34m=\u001b[0m\u001b[0;36m5\u001b[0m\u001b[0;34m)\u001b[0m\u001b[0;34m\u001b[0m\u001b[0;34m\u001b[0m\u001b[0m\n\u001b[0m\u001b[1;32m      2\u001b[0m \u001b[0mprint\u001b[0m\u001b[0;34m(\u001b[0m\u001b[0mrecommendations\u001b[0m\u001b[0;34m)\u001b[0m\u001b[0;34m\u001b[0m\u001b[0;34m\u001b[0m\u001b[0m\n",
            "\u001b[0;31mNameError\u001b[0m: name 'recommendation_model' is not defined"
          ]
        }
      ]
    },
    {
      "cell_type": "code",
      "source": [
        "pip install fuzzywuzzy[speedup]"
      ],
      "metadata": {
        "colab": {
          "base_uri": "https://localhost:8080/"
        },
        "id": "wm31rlvEQrta",
        "outputId": "2c411a1a-b072-4be2-e7ad-805606fb534a"
      },
      "execution_count": 13,
      "outputs": [
        {
          "output_type": "stream",
          "name": "stdout",
          "text": [
            "Collecting fuzzywuzzy[speedup]\n",
            "  Downloading fuzzywuzzy-0.18.0-py2.py3-none-any.whl.metadata (4.9 kB)\n",
            "Collecting python-levenshtein>=0.12 (from fuzzywuzzy[speedup])\n",
            "  Downloading python_levenshtein-0.27.1-py3-none-any.whl.metadata (3.7 kB)\n",
            "Collecting Levenshtein==0.27.1 (from python-levenshtein>=0.12->fuzzywuzzy[speedup])\n",
            "  Downloading levenshtein-0.27.1-cp312-cp312-manylinux_2_17_x86_64.manylinux2014_x86_64.whl.metadata (3.6 kB)\n",
            "Collecting rapidfuzz<4.0.0,>=3.9.0 (from Levenshtein==0.27.1->python-levenshtein>=0.12->fuzzywuzzy[speedup])\n",
            "  Downloading rapidfuzz-3.13.0-cp312-cp312-manylinux_2_17_x86_64.manylinux2014_x86_64.whl.metadata (12 kB)\n",
            "Downloading python_levenshtein-0.27.1-py3-none-any.whl (9.4 kB)\n",
            "Downloading levenshtein-0.27.1-cp312-cp312-manylinux_2_17_x86_64.manylinux2014_x86_64.whl (159 kB)\n",
            "\u001b[2K   \u001b[90m━━━━━━━━━━━━━━━━━━━━━━━━━━━━━━━━━━━━━━━━\u001b[0m \u001b[32m159.9/159.9 kB\u001b[0m \u001b[31m3.9 MB/s\u001b[0m eta \u001b[36m0:00:00\u001b[0m\n",
            "\u001b[?25hDownloading fuzzywuzzy-0.18.0-py2.py3-none-any.whl (18 kB)\n",
            "Downloading rapidfuzz-3.13.0-cp312-cp312-manylinux_2_17_x86_64.manylinux2014_x86_64.whl (3.1 MB)\n",
            "\u001b[2K   \u001b[90m━━━━━━━━━━━━━━━━━━━━━━━━━━━━━━━━━━━━━━━━\u001b[0m \u001b[32m3.1/3.1 MB\u001b[0m \u001b[31m40.3 MB/s\u001b[0m eta \u001b[36m0:00:00\u001b[0m\n",
            "\u001b[?25hInstalling collected packages: fuzzywuzzy, rapidfuzz, Levenshtein, python-levenshtein\n",
            "Successfully installed Levenshtein-0.27.1 fuzzywuzzy-0.18.0 python-levenshtein-0.27.1 rapidfuzz-3.13.0\n"
          ]
        }
      ]
    },
    {
      "cell_type": "code",
      "source": [
        "import joblib\n",
        "from fuzzywuzzy import process"
      ],
      "metadata": {
        "id": "F0lwl8IBLeMv"
      },
      "execution_count": 15,
      "outputs": []
    },
    {
      "cell_type": "code",
      "source": [
        "# Load product list\n",
        "product_list = joblib.load(\"/content/drive/MyDrive/Colab Notebooks/Online_Retail_Project5/product_list.pkl\")"
      ],
      "metadata": {
        "id": "qyIEthIEQ6Ee"
      },
      "execution_count": 16,
      "outputs": []
    },
    {
      "cell_type": "code",
      "source": [
        "def product_recommendation(product_name, top_n=5):\n",
        "    matches = process.extract(product_name, product_list, limit=top_n+1)\n",
        "    recommendations = [match for match, score in matches]\n",
        "    return recommendations"
      ],
      "metadata": {
        "id": "i1F4ztQUQ56E"
      },
      "execution_count": 17,
      "outputs": []
    },
    {
      "cell_type": "code",
      "source": [
        "print(product_recommendation(\"alarm clok\", top_n=5))"
      ],
      "metadata": {
        "colab": {
          "base_uri": "https://localhost:8080/"
        },
        "id": "JhaimRS-QngD",
        "outputId": "939f12d2-3d97-4e88-866a-d77d09dbb46d"
      },
      "execution_count": 18,
      "outputs": [
        {
          "output_type": "stream",
          "name": "stdout",
          "text": [
            "['alarm clock bakelike pink', 'alarm clock bakelike red', 'alarm clock bakelike green', 'alarm clock bakelike ivory', 'alarm clock bakelike orange', 'alarm clock bakelike chocolate']\n"
          ]
        }
      ]
    },
    {
      "cell_type": "code",
      "source": [],
      "metadata": {
        "id": "UvU3mFmrRKub"
      },
      "execution_count": null,
      "outputs": []
    },
    {
      "cell_type": "code",
      "source": [
        "# Load model\n",
        "model = joblib.load(\"/content/drive/MyDrive/Colab Notebooks/Online_Retail_Project5/recommendation_model3.pkl\")\n",
        "\n",
        "# Get recommendations\n",
        "print(model.recommend(\"alarm clok\", top_n=5))\n"
      ],
      "metadata": {
        "colab": {
          "base_uri": "https://localhost:8080/",
          "height": 176
        },
        "id": "6V3u-SiNSGkY",
        "outputId": "175f0eb1-c825-4afc-af2b-fbac26bffc8a"
      },
      "execution_count": 19,
      "outputs": [
        {
          "output_type": "error",
          "ename": "AttributeError",
          "evalue": "'RecommendationModel' object has no attribute 'recommend'",
          "traceback": [
            "\u001b[0;31m---------------------------------------------------------------------------\u001b[0m",
            "\u001b[0;31mAttributeError\u001b[0m                            Traceback (most recent call last)",
            "\u001b[0;32m/tmp/ipython-input-1733454325.py\u001b[0m in \u001b[0;36m<cell line: 0>\u001b[0;34m()\u001b[0m\n\u001b[1;32m      3\u001b[0m \u001b[0;34m\u001b[0m\u001b[0m\n\u001b[1;32m      4\u001b[0m \u001b[0;31m# Get recommendations\u001b[0m\u001b[0;34m\u001b[0m\u001b[0;34m\u001b[0m\u001b[0m\n\u001b[0;32m----> 5\u001b[0;31m \u001b[0mprint\u001b[0m\u001b[0;34m(\u001b[0m\u001b[0mmodel\u001b[0m\u001b[0;34m.\u001b[0m\u001b[0mrecommend\u001b[0m\u001b[0;34m(\u001b[0m\u001b[0;34m\"alarm clok\"\u001b[0m\u001b[0;34m,\u001b[0m \u001b[0mtop_n\u001b[0m\u001b[0;34m=\u001b[0m\u001b[0;36m5\u001b[0m\u001b[0;34m)\u001b[0m\u001b[0;34m)\u001b[0m\u001b[0;34m\u001b[0m\u001b[0;34m\u001b[0m\u001b[0m\n\u001b[0m",
            "\u001b[0;31mAttributeError\u001b[0m: 'RecommendationModel' object has no attribute 'recommend'"
          ]
        }
      ]
    },
    {
      "cell_type": "code",
      "source": [
        "model = joblib.load(\"/content/drive/MyDrive/Colab Notebooks/Online_Retail_Project5/recommendation_model4.pkl\")"
      ],
      "metadata": {
        "id": "zD1IGREbSNNh"
      },
      "execution_count": 20,
      "outputs": []
    },
    {
      "cell_type": "code",
      "source": [
        "model(\"alarm clock\", top_n = 11)"
      ],
      "metadata": {
        "colab": {
          "base_uri": "https://localhost:8080/"
        },
        "id": "f0vZJdH2Zgu7",
        "outputId": "2639d904-fe31-44fb-fcdc-d2fb8f5e24e1"
      },
      "execution_count": 24,
      "outputs": [
        {
          "output_type": "execute_result",
          "data": {
            "text/plain": [
              "['alarm clock bakelike pink',\n",
              " 'alarm clock bakelike red',\n",
              " 'alarm clock bakelike green',\n",
              " 'alarm clock bakelike ivory',\n",
              " 'alarm clock bakelike orange',\n",
              " 'alarm clock bakelike chocolate',\n",
              " 'white travel alarm clock',\n",
              " 'red diner wall clock',\n",
              " 'blue diner wall clock',\n",
              " 'ivory diner wall clock',\n",
              " 'black diner wall clock',\n",
              " 'grass hopper wooden wall clock']"
            ]
          },
          "metadata": {},
          "execution_count": 24
        }
      ]
    },
    {
      "cell_type": "code",
      "source": [
        "import gradio as gr\n",
        "\n",
        "def recommend_ui(product_name, top_n=11):\n",
        "    try:\n",
        "        recommendations = model(product_name, top_n=top_n-1)\n",
        "        return \"\\n\".join(recommendations)\n",
        "    except Exception as e:\n",
        "        return str(e)\n",
        "\n",
        "# Gradio interface\n",
        "demo = gr.Interface(\n",
        "    fn=recommend_ui,\n",
        "    inputs=[\n",
        "        gr.Textbox(label=\"Enter a product name\"),\n",
        "        gr.Slider(1, 11, value=5, step=1, label=\"Number of Recommendations\")\n",
        "    ],\n",
        "    outputs=gr.Textbox(label=\"Recommended Products\"),\n",
        "    title=\"🛒 Product Recommendation System\",\n",
        "    description=\"Type a product name to get similar recommendations!\"\n",
        ")\n",
        "\n",
        "demo.launch()\n"
      ],
      "metadata": {
        "colab": {
          "base_uri": "https://localhost:8080/",
          "height": 646
        },
        "id": "b0CVOIKLZ1GX",
        "outputId": "613332b9-1626-4cc4-95c3-5ae94c97d001"
      },
      "execution_count": 30,
      "outputs": [
        {
          "output_type": "stream",
          "name": "stdout",
          "text": [
            "It looks like you are running Gradio on a hosted Jupyter notebook, which requires `share=True`. Automatically setting `share=True` (you can turn this off by setting `share=False` in `launch()` explicitly).\n",
            "\n",
            "Colab notebook detected. To show errors in colab notebook, set debug=True in launch()\n",
            "* Running on public URL: https://5b6bebc201d103cded.gradio.live\n",
            "\n",
            "This share link expires in 1 week. For free permanent hosting and GPU upgrades, run `gradio deploy` from the terminal in the working directory to deploy to Hugging Face Spaces (https://huggingface.co/spaces)\n"
          ]
        },
        {
          "output_type": "display_data",
          "data": {
            "text/plain": [
              "<IPython.core.display.HTML object>"
            ],
            "text/html": [
              "<div><iframe src=\"https://5b6bebc201d103cded.gradio.live\" width=\"100%\" height=\"500\" allow=\"autoplay; camera; microphone; clipboard-read; clipboard-write;\" frameborder=\"0\" allowfullscreen></iframe></div>"
            ]
          },
          "metadata": {}
        },
        {
          "output_type": "execute_result",
          "data": {
            "text/plain": []
          },
          "metadata": {},
          "execution_count": 30
        }
      ]
    }
  ]
}